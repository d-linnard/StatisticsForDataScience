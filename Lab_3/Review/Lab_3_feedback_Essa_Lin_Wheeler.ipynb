{
 "cells": [
  {
   "cell_type": "markdown",
   "metadata": {},
   "source": [
    " ## <center> Lab 3-Draft feedback <center/>"
   ]
  },
  {
   "cell_type": "markdown",
   "metadata": {},
   "source": [
    "### <center> For Huang, Lim, Wu, and Wu <center/>  \n",
    "### <center> From Essa, Lin, and Wheeler <center/>"
   ]
  },
  {
   "cell_type": "markdown",
   "metadata": {},
   "source": [
    "**1.0 Introduction.** Is the introduction clear? Is the research question specific and well defined? Could the research question lead to an actionable policy reccomendation? Does it motivate the analysis? Note that we're not necessarily expecting a long introduction. Even a single paragraph is probably enough for most reports."
   ]
  },
  {
   "cell_type": "markdown",
   "metadata": {},
   "source": [
    "* Yes, the introduction is very clear. Great job.\n",
    "\n",
    "* The research question: **\"How can we leverage tax, policing, and housing policy in our campaign to lower crime?\"** is specific and well-defined but we are not sure how you will answer it with statistics.\n",
    "\n",
    "* Yes, the research question could lead to actionable policy reccomendations. For example, taxe rates, police per capita, and housing zones could be changes if the results motivat such changes.\n",
    "\n",
    "* Yes the research question motivates the analysis. However, we do not understand why you chose taxes, police, and housing as predictors. Is it not possible that other variables are driving crime?"
   ]
  },
  {
   "cell_type": "markdown",
   "metadata": {},
   "source": [
    "**2.0 The Initial Data Loading and Cleaning.** Did the team notice any anomalous values? Is there a sufficient justification for any data points that are removed? Did the report note any coding features that affect the meaning of variables (e.g. top-coding or bottom-coding)? Overall, does the report demonstrate a thorough understanding of the data?\n"
   ]
  },
  {
   "cell_type": "markdown",
   "metadata": {},
   "source": [
    "* Yes, the team deleted the duplicate occurrences of county 193. Good job. Very sleek.\n",
    "\n",
    "* Yes. you removed NA values & duplicates for county 193. Both are justified. Why did you not remove *year* since it is a constant?\n",
    "\n",
    "* They were correct to (i) report that some *prbconv* > 1 and (ii) not remove these values since these 'probability' variables do not represent true probabilities. Also, they note that the wage data were likely censored (e.g. top and bottom coded).\n",
    "\n",
    "* Yes, the report demonstrates a thorough understanding of the data. We are just not sure why you choosing the tax, police, and housing data as predictors- why not use model selection to inform what variables drive crime rather than impose your worldview onto the data?\n",
    "\n",
    "* Note: please directly discuss all figures you present.\n",
    "\n",
    "* Your scatterplot matrix with red-blue dots that depict collinearity is great. However, note, that only *perfect* collinearity is troublesome, as you mention later. Unperfect/weak collinearity is expected, as noted by Wooldridge. For this reason, we do not think you need to transform the wage data *for that reason*- maybe for other reasons..."
   ]
  },
  {
   "cell_type": "markdown",
   "metadata": {},
   "source": [
    "**3.0 The Model Building Process.** Overall, is each step in the model building process supported by EDA? Is the outcome variable (or variables) appropriate? Is there a thorough univariate analysis of the outcome variable. Did the team identify at least two key explanatory variables and perform a thorough univariate analysis of each? Did the team clearly state why they chose these explanatory variables, does this explanation make sense in term of their research question? Did the team consider available variable transformations and select them with an eye towards model plausibility and interperability? Are transformations used to expose linear relationships in scatterplots? Is there enough explanation in the text to understand the meaning of each visualization?"
   ]
  },
  {
   "cell_type": "markdown",
   "metadata": {},
   "source": [
    "* Yes, but it is still unclear why these predictors are choose *a priori* rather than using the model building process to *reveal* important predictors.\n",
    "\n",
    "* Yes, very thorough univariate analysis was completed for the *crmrte*. The authors just need to be sure to mention each graph explicitly. We recommend that you label each figure with (figure 1,2...n) and cite them as such so you do not loose points.\n",
    "\n",
    "* Yes, the team performed thorough univariate analysis on *taxpc*, *prbarr*, *wmed*, and *density*.\n",
    "\n",
    "* Yes, they clearly explained why they choose these variables. \n",
    "\n",
    "* Yes, these variables do reflect their research question.\n",
    "\n",
    "* No, transformations were not included.\n",
    "\n",
    "* No, transformatins were not used to reveal linearity in scatter plots.\n",
    "\n",
    "* No, not every graph was mentioned. Please cite and discuss each graph.\n",
    "\n",
    "Finally,\n",
    "\n",
    "* Note that histograms and boxplots both show the same thing in different ways- you might consider just picking one to limit the total number of figures you need to discuss.\n",
    "\n",
    "* Be careful with the **data linearity** assumption. Do you mean the model is **linear in the parameters**?\n",
    "\n",
    "* Be careful to differentiate between the population error, $u$, and the residuals.\n",
    "\n",
    "* Have you considered interaction effects?\n",
    "\n",
    "* Have you considered transformations?"
   ]
  },
  {
   "cell_type": "markdown",
   "metadata": {},
   "source": [
    "**4.0 Regression Models: Base Model.** Does this model only include key explanatory variables? Does the team identify what they want to measure with each coefficient? Does the team interpret the result of the regression in a thorough and convincing manner. Does the team evaluate all 6 CLM assumptions? Are the conclusions they draw based on this evaluation appropriate? Did the team interpret the results in terms of their research question?"
   ]
  },
  {
   "cell_type": "markdown",
   "metadata": {},
   "source": [
    "* Yes, the base model included key explanatory variables (taxpc, prbarr, density) that they intend to analyze.\n",
    "\n",
    "* Yes, the team provided explaination of measurement of each coefficient. \n",
    "\n",
    "* Yes, the team provided proper interpret the result of the regression. It will be more interesting to discuss the meanings of relationship among variables since they show correlations (taxpc and density has positive correlation; prbarr and density has negative correlation). \n",
    "\n",
    "* Yes, the team clearly evaluate all 6 CLM assumptions in 4.0.2. \n",
    "\n",
    "* Yes, the conclusions were clear and appropriate. \n",
    "\n",
    "* Yes, the interpretation of results and conclusions of based model reflected their research question. Moreover, they made policy recommmendations based on each key explanatory variables. \n",
    "\n",
    "\n",
    "* Additional comments: \n",
    "    * The taxpc, prbarr, and density variables show strong positive skew, log-transforamtion may help on normal distribution. "
   ]
  },
  {
   "cell_type": "markdown",
   "metadata": {},
   "source": [
    "**4.1 Regression Model: Second Model.** Does this model include covariates meant to increase the accuracy of the regression? Has the team justified inclusion of each of these additional variables? Does the team identify what they want to measure with each coefficient? Does the team interpret the result of the regression in a thorough and convincing manner. Does the team evaluate all 6 CLM assumptions? Are the conclusions they draw based on this evaluation appropriate? Did the team interpret the results in terms of their research question?"
   ]
  },
  {
   "attachments": {},
   "cell_type": "markdown",
   "metadata": {},
   "source": [
    "* Yes, the pctmin80, pctymle, prbconv, and polpc were introduced to imporve the accuracy of the regression from model 1.\n",
    "\n",
    "* Yes, the team made justifications on including these variables. The team also stated that adding these variables was to increase the accuracy but not follow the research question. \n",
    "\n",
    "* No, the purposes of adding these variables regarding to political campaign were weak. \n",
    "\n",
    "* Yes, the team interpreted the result of the regression in 4.1.4 and evaluated all 6 CLM assumptions in 4.1.2. \n",
    "\n",
    "* Yes, the conclusion had clear statistical interpretation on both original and adding variables. \n",
    "\n",
    "* No, the interpretation of results did not clearly describe how to assist the policy making based on the adding variables. "
   ]
  },
  {
   "cell_type": "markdown",
   "metadata": {},
   "source": [
    "**4.2 Regression Model: Third Model.** Has the team explained what value can be derived from this model? Does the team interpret the result of the regression in a thorough and convincing manner. Does the team evaluate all 6 CLM assumptions? Are the conclusions they draw based on this evaluation appropriate? Did the team interpret the results in terms of their research question?"
   ]
  },
  {
   "cell_type": "markdown",
   "metadata": {},
   "source": [
    "* Yes, the team explained the values can be derived from this model in 4.3.1. \n",
    "\n",
    "* Yes, the team interpreted the result of the regression in 4.3.2 and evaluated all 6 CLM assumptions in 4.2.2.\n",
    "\n",
    "* No, the conclusion mainly explained the statistical meanings with weak arguments toward research question and political campaign.\n",
    "\n",
    "* No, the team did not interpret the results in terms of their research question based on the third model."
   ]
  },
  {
   "cell_type": "markdown",
   "metadata": {},
   "source": [
    "Additional suggestions: \n",
    "\n",
    "* It might be more clear to have strong link among three model. In current version, the first model had the best arguments regarding to research question and political campaign. However, the conclusions and policy recommmendations based on model 2 and model 3 are weak. "
   ]
  },
  {
   "cell_type": "markdown",
   "metadata": {},
   "source": [
    "**4.3 The Regression Table.**  Are the model specifications properly chosen to outline the boundary of reasonable choices?  Is it easy to find key coefficients in the regression table?  Does the text include a discussion of practical significance for key effects?"
   ]
  },
  {
   "cell_type": "markdown",
   "metadata": {},
   "source": [
    "* Yes, the model specifications were properly chosen.\n",
    "\n",
    "* Yes, key coefficients were easy to find.\n",
    "\n",
    "* Yes, practical significance for key effects were discussed in 4.3.1."
   ]
  },
  {
   "cell_type": "markdown",
   "metadata": {},
   "source": [
    "**5.0 The Omitted Variables Discussion**\n",
    "Did the report miss any important sources of omitted variable bias? Are the estimated directions of bias correct? Was their explanation clear? Is the discussion connected to whether the key effects are real or whether they may be solely an artifact of omitted variable bias?"
   ]
  },
  {
   "cell_type": "markdown",
   "metadata": {},
   "source": [
    "* The team did a good job of identifying sources of omitted variable bias and estimating the direction of bias.\n",
    "* The rationale for each omitted variable and their potential bias is well reasoned and they have identified the practical implication of each. \n",
    "* As far as missing any major sources of omitted variable bias, the team has covered what we also believe to be relevant and a few more as well. Of the sources they cite, \"Social status (lower / middle / upper class)\" is perhaps a little redundant since this variable can likely be very correlated to wages and job opportunities, which in turn are mentioned to account for some of the bias."
   ]
  },
  {
   "cell_type": "markdown",
   "metadata": {},
   "source": [
    "**6.0 Conclusion**\n",
    "Does the conclusion address the high-level concerns of a political campaign? Does it raise interesting points beyond numerical estimates? Does it place relevant context around the results?"
   ]
  },
  {
   "cell_type": "markdown",
   "metadata": {},
   "source": [
    "* The conclusion is presents the high level policy recommendations concisely. The details presented in the various sections go through a thorough discussion of the numerical aspect and practical steps that can be taken to reduce crime rate. However, It would be nice if they could recap the policy change suggestions in slightly more detail in the end again."
   ]
  },
  {
   "cell_type": "markdown",
   "metadata": {},
   "source": [
    "**7.0 Can you find any other errors, faulty logic, unclear or unpersuasive writing, or other elements that leave you less convinced by the conclusions?**"
   ]
  },
  {
   "cell_type": "markdown",
   "metadata": {},
   "source": [
    "* Overall the report is well organized and has pertinent data. One thing we would caution against is that since we are dealing with a snapshot of cross sectional data, the use of the word \"true\" in the covariate discussion may not be techincally accurate. e.g. 'Young males are also known to have a tendency in crime participation, hence, adding this as covariate could better identify the true effect size of the explanatory variables.' "
   ]
  },
  {
   "cell_type": "code",
   "execution_count": null,
   "metadata": {},
   "outputs": [],
   "source": []
  }
 ],
 "metadata": {
  "kernelspec": {
   "display_name": "R",
   "language": "R",
   "name": "ir"
  },
  "language_info": {
   "codemirror_mode": "r",
   "file_extension": ".r",
   "mimetype": "text/x-r-source",
   "name": "R",
   "pygments_lexer": "r",
   "version": "3.5.1"
  }
 },
 "nbformat": 4,
 "nbformat_minor": 2
}
