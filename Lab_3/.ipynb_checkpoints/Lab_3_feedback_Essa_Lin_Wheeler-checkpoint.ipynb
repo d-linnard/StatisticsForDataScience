{
 "cells": [
  {
   "cell_type": "markdown",
   "metadata": {},
   "source": [
    " ## <center> Lab 3-Draft feedback <center/>"
   ]
  },
  {
   "cell_type": "markdown",
   "metadata": {},
   "source": [
    "### <center> For Huang, Lim, Wu, and Wu <center/>  \n",
    "### <center> From Essa, Lin, and Wheeler <center/>"
   ]
  },
  {
   "cell_type": "markdown",
   "metadata": {},
   "source": [
    "**1.0 Introduction.** Is the introduction clear? Is the research question specific and well defined? Could the research question lead to an actionable policy reccomendation? Does it motivate the analysis? Note that we're not necessarily expecting a long introduction. Even a single paragraph is probably enough for most reports."
   ]
  },
  {
   "cell_type": "markdown",
   "metadata": {},
   "source": [
    "* Yes, the introduction is very clear. Great job.\n",
    "\n",
    "* The research question: **\"How can we leverage tax, policing, and housing policy in our campaign to lower crime?\"** is specific and well-defined but we are not sure how you will answer it with statistics.\n",
    "\n",
    "* Yes, the research question could lead to actionable policy reccomendations. For example, taxe rates, police per capita, and housing zones could be changes if the results motivat such changes.\n",
    "\n",
    "* Yes the research question motivates the analysis. However, we do not understand why you chose taxes, police, and housing as predictors. Is it not possible that other variables are driving crime?"
   ]
  },
  {
   "cell_type": "markdown",
   "metadata": {},
   "source": [
    "**2.0 The Initial Data Loading and Cleaning.** Did the team notice any anomalous values? Is there a sufficient justification for any data points that are removed? Did the report note any coding features that affect the meaning of variables (e.g. top-coding or bottom-coding)? Overall, does the report demonstrate a thorough understanding of the data?\n"
   ]
  },
  {
   "cell_type": "markdown",
   "metadata": {},
   "source": [
    "* Yes, the team deleted the duplicate occurrences of county 193. Good job. Very sleek.\n",
    "\n",
    "* Yes. you removed NA values & duplicates for county 193. Both are justified. Why did you not remove *year* since it is a constant?\n",
    "\n",
    "* They were correct to (i) report that some *prbconv* > 1 and (ii) not remove these values since these 'probability' variables do not represent true probabilities. Also, they note that the wage data were likely censored (e.g. top and bottom coded).\n",
    "\n",
    "* Yes, the report demonstrates a thorough understanding of the data. We are just not sure why you choosing the tax, police, and housing data as predictors- why not use model selection to inform what variables drive crime rather than impose your worldview onto the data?\n",
    "\n",
    "* Note: please directly discuss all figures you present.\n",
    "\n",
    "* Your scatterplot matrix with red-blue dots that depict collinearity is great. However, note, that only *perfect* collinearity is troublesome, as you mention later. Unperfect/weak collinearity is expected, as noted by Wooldridge. For this reason, we do not think you need to transform the wage data *for that reason*- maybe for other reasons..."
   ]
  },
  {
   "cell_type": "markdown",
   "metadata": {},
   "source": [
    "**3.0 The Model Building Process.** Overall, is each step in the model building process supported by EDA? Is the outcome variable (or variables) appropriate? Is there a thorough univariate analysis of the outcome variable. Did the team identify at least two key explanatory variables and perform a thorough univariate analysis of each? Did the team clearly state why they chose these explanatory variables, does this explanation make sense in term of their research question? Did the team consider available variable transformations and select them with an eye towards model plausibility and interperability? Are transformations used to expose linear relationships in scatterplots? Is there enough explanation in the text to understand the meaning of each visualization?"
   ]
  },
  {
   "cell_type": "markdown",
   "metadata": {},
   "source": [
    "* Yes, but it is still unclear why these predictors are choose *a priori* rather than using the model building process to *reveal* important predictors.\n",
    "\n",
    "* Yes, very thorough univariate analysis was completed for the *crmrte*. The authors just need to be sure to mention each graph explicitly. We recommend that you label each figure with (figure 1,2...n) and cite them as such so you do not loose points.\n",
    "\n",
    "* Yes, the team performed thorough univariate analysis on *taxpc*, *prbarr*, *wmed*, and *density*.\n",
    "\n",
    "* Yes, they clearly explained why they choose these variables. \n",
    "\n",
    "* Yes, these variables do reflect their research question.\n",
    "\n",
    "* No, transformations were not included.\n",
    "\n",
    "* No, transformatins were not used to reveal linearity in scatter plots.\n",
    "\n",
    "* No, not every graph was mentioned. Please cite and discuss each graph.\n",
    "\n",
    "Finally,\n",
    "\n",
    "* Note that histograms and boxplots both show the same thing in different ways- you might consider just picking one to limit the total number of figures you need to discuss.\n",
    "\n",
    "* Be careful with the **data linearity** assumption. Do you mean the model is **linear in the parameters**?\n",
    "\n",
    "* Be careful to differentiate between the population error, $u$, and the residuals.\n",
    "\n",
    "* Have you considered interaction effects?\n",
    "\n",
    "* Have you considered transformations?"
   ]
  },
  {
   "cell_type": "code",
   "execution_count": null,
   "metadata": {},
   "outputs": [],
   "source": []
  }
 ],
 "metadata": {
  "kernelspec": {
   "display_name": "R",
   "language": "R",
   "name": "ir"
  },
  "language_info": {
   "codemirror_mode": "r",
   "file_extension": ".r",
   "mimetype": "text/x-r-source",
   "name": "R",
   "pygments_lexer": "r",
   "version": "3.5.1"
  }
 },
 "nbformat": 4,
 "nbformat_minor": 2
}
