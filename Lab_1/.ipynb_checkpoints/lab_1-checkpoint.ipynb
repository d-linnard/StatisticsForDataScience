{
 "cells": [
  {
   "cell_type": "markdown",
   "metadata": {},
   "source": [
    "# Lab 1: Probability Theory\n",
    "## W203: Statistics for Data Science\n",
    "\n"
   ]
  },
  {
   "cell_type": "markdown",
   "metadata": {},
   "source": [
    "## 1. Meanwhile, at the Unfair Coin Factory...\n",
    "\n",
    "You are given a bucket that contains 100 coins.  99 of these are fair coins, but one of them is a trick coin that always comes up heads.  You select one coin from this bucket at random.  Let T be the event that you select the trick coin.  This means that $P(T) = 0.01$.\n",
    "\n",
    "a. Suppose you flip the coin once and it comes up heads.  Call this event $H_1$.  If this event occurs, what is the conditional probability that you have the trick coin?  In other words, what is $P(T|H_1)$?\n",
    "\n",
    "b. Suppose instead that you flip the coin $k$ times.  Let $H_k$ be the event that the coin comes up heads all $k$ times.  If you see this occur, what is the conditional probability that you have the trick coin?  In other words, what is $P(T|H_k)$.\n",
    "\n",
    "c. How many heads in a row would you need to observe in order for the conditional probability that you have the trick coin to be higher than 99%?"
   ]
  },
  {
   "cell_type": "markdown",
   "metadata": {},
   "source": [
    "> * **Known probabilities**:\n",
    "> $$\n",
    "P(T) = 0.01\\\\\n",
    "P(!T) = 0.99\\\\\n",
    "P(H|T) = 1\\\\\n",
    "P(H|!T) = 0.5\\\\\n",
    "$$"
   ]
  },
  {
   "cell_type": "markdown",
   "metadata": {},
   "source": [
    "**a**.\n",
    "> #### Suppose you flip the coin once and it comes up heads. Call this event  $𝐻_1$ . If this event occurs, what is the conditional probability that you have the trick coin? In other words, what is  $𝑃(𝑇|𝐻_1)$ ?\n",
    "\n",
    "> * The probability of flipping the trick coin, given you flipped a heads $P(T|H_1)$:\n",
    "\n",
    "$$\n",
    "\\begin{align}\n",
    "P(T|H_1) &= \\frac {P(T \\cap H_1)} {P(H_1)}\\\\\\\\\n",
    "&= \\frac {P(H_1 \\cap T)} {P(H_1)}\\\\\\\\\n",
    "&= \\frac {P(H_1|T)P(T)} {P(H_1)}\\\\\\\\\n",
    "&= \\frac {(1)(0.01)} {0.05}\\\\\\\\\n",
    "&= \\frac {0.01} {0.50}\\\\\\\\\n",
    "&= 0.02\\\\\\\\\n",
    "\\end{align}\n",
    "$$\n"
   ]
  },
  {
   "cell_type": "markdown",
   "metadata": {},
   "source": [
    "> $\\star$ The conditional probability of flipping the trick coin, given you flipped a head, $P(T|H_1) = 0.02$."
   ]
  },
  {
   "cell_type": "markdown",
   "metadata": {},
   "source": [
    "**b**.\n",
    "> #### Suppose instead that you flip the coin $k$ times.  Let $H_k$ be the event that the coin comes up heads all $k$ times.  If you see this occur, what is the conditional probability that you have the trick coin?  In other words, what is $P(T|H_k)$."
   ]
  },
  {
   "cell_type": "markdown",
   "metadata": {},
   "source": [
    "> * The probability of observing $k$ heads, given that the coin is unfair, $T$, is $P(T|H_k)$:\n",
    "\n",
    "> $$\n",
    "\\begin{align}\n",
    "P(T|H_k) &= \\frac {P(H_k|T) P(T)}{P(H_k)}\\\\\n",
    "\\end{align}\n",
    "$$\n",
    "\n",
    "> * To calculate this probability, we first need $P(H_k)$\n",
    "\n",
    "> * The probability of getting $k$ heads is $P(H_k)$:\n",
    "$$\n",
    "\\begin{align}\n",
    "P(H_k) &= (P(!T) \\cdot P(H_k|!T)) + (P(T) \\cdot P(H_k|T))\\\\\n",
    "&= (P(!T) \\cdot P(H_k|!T)^k) + (P(T) \\cdot P(H|T)^k)\\\\\n",
    "&= (0.99 \\cdot 0.5^k) + (0.01 \\cdot 1^k)\\\\\n",
    "&= (0.99 \\cdot 0.5^k) + 0.01\\\\\n",
    "\\end{align}\n",
    "$$"
   ]
  },
  {
   "cell_type": "markdown",
   "metadata": {},
   "source": [
    "> * Since we now know $P(H_K)$, we need $P(H_k|T)$:\n",
    "\n",
    "> $$\n",
    "\\begin{align}\n",
    "P(H_k|T) &= P(H_k|T) = P(H|T)^k = 1^k = 1\\\\\n",
    "\\end{align}\n",
    "$$"
   ]
  },
  {
   "cell_type": "markdown",
   "metadata": {},
   "source": [
    "> * Now, to solve $P(T|H_k)$:\n",
    "\n",
    "> $$\n",
    "\\begin{align}\n",
    "P(T|H_k) &= \\frac {P(H_k|T) \\cdot P(T)}{P(H_k)}\\\\\n",
    " &= \\frac {1 \\cdot 0.01}{(0.99 \\cdot 0.5^k)+0.01}\\\\\n",
    " &= \\frac {0.01}{(0.99 \\cdot 0.5^k)+0.01}\\\\\n",
    "\\end{align}\n",
    "$$"
   ]
  },
  {
   "cell_type": "markdown",
   "metadata": {},
   "source": [
    "> $\\star$ Thus, $P(T|H_k) = \\frac {0.01}{(0.99 \\cdot 0.5^k) + 0.01} $"
   ]
  },
  {
   "cell_type": "markdown",
   "metadata": {},
   "source": [
    "**c**.\n",
    "> #### How many heads in a row would you need to observe in order for the conditional probability that you have the trick coin to be higher than 99%?"
   ]
  },
  {
   "cell_type": "markdown",
   "metadata": {},
   "source": [
    "> * The number of $k$ heads in a row are needed for $P(T|H_k) > 0.99$:\n",
    "\n",
    "> $$\n",
    "\\begin{align}\n",
    "\\frac {0.01}{(0.99 \\cdot 0.5^k)+0.01} &> 0.99\\\\\\\\\n",
    " (0.99 \\cdot 0.5^k)+0.01 \\cdot 0.01 &> 0.99 \\cdot (0.99 \\cdot 0.5^k)+0.01\\\\\\\\\n",
    "\\frac {0.01}{0.99} &> \\frac {0.99 \\cdot (0.99 \\cdot 0.5^k)+0.01}{0.99}\\\\\\\\\n",
    "\\frac {0.01}{0.99} &> (0.99 \\cdot 0.5^k) + 0.01\\\\\\\\\n",
    "(0.99 \\cdot 0.5^k) &< \\frac{1}{99} - 0.01\\\\\\\\\n",
    "(0.99 \\cdot 0.5^k) &< \\frac{1}{99} - \\frac{1}{100}\\\\\\\\\n",
    "(0.99 \\cdot 0.5^k) &< \\frac{100}{9900}- \\frac{99}{9900}\\\\\\\\\n",
    "(0.99 \\cdot 0.5^k) &< \\frac{1}{9900}\\\\\\\\\n",
    "0.5^k &< \\frac{1}{(9900 \\cdot 0.99)}\\\\\\\\\n",
    "0.5^k &< \\frac{1}{9801}\\\\\\\\\n",
    "\\end{align}\n",
    "$$\n",
    "\n",
    "> $\\star$ The number of $k$ heads in a row needed to inflate $P(T|H_k) > 0.99 = 0.5^k < \\frac{1}{9801}$"
   ]
  },
  {
   "cell_type": "markdown",
   "metadata": {},
   "source": [
    "## 2.  Wise Investments \n",
    "\n",
    "You invest in two startup companies focused on data science.  Thanks to your growing expertise in this area, each company will reach unicorn status (valued at \\\\$1 billion) with probability 3/4, independent of the other company.  Let random variable $X$ be the total number of companies that reach unicorn status.  X can take on the values 0, 1, and 2.  Note: $X$ is what we call a binomial random variable with parameters $n=2$ and $p=3/4$.\n",
    "\n",
    "a. Give a complete expression for the probability mass function of $X$.\n",
    "\n",
    "b. Give a complete expression for the cumulative probability function of $X$.\n",
    "\n",
    "c. Compute $E(X)$.\n",
    "\n",
    "d. Compute $var(X)$."
   ]
  },
  {
   "cell_type": "markdown",
   "metadata": {},
   "source": [
    "**a**.\n",
    "> #### Give a complete expression for the probability mass function of $X$."
   ]
  },
  {
   "cell_type": "markdown",
   "metadata": {},
   "source": [
    "> * The $p(x)$ for each $x = 0,1,2$ can be calculated from the binomial distribution pmf:\n",
    "\n",
    "> $$\n",
    "\\begin{align}\n",
    "p(x) &= \\binom{n}{x} p^x (1-p)^{n-x}\\\\\n",
    "\\end{align}\n",
    "$$\n",
    "\n",
    ">> * where $$\\binom{n}{x} = \\frac {n!}{x!(n-x)!}$$"
   ]
  },
  {
   "cell_type": "markdown",
   "metadata": {},
   "source": [
    "> * For $x = 0,1,2$:"
   ]
  },
  {
   "cell_type": "markdown",
   "metadata": {},
   "source": [
    ">>$p(X=0)$:\n",
    "\n",
    ">> $$\n",
    "\\begin{align}\n",
    "p(0) &= \\binom{n}{x} p^x (1-p)^{n-x}\\\\\\\\\n",
    "&= \\frac {n!}{x!(n-x)!} p^x (1-p)^{n-x}\\\\\\\\\n",
    "&= \\frac {2!}{0!(2-0)!} \\big(\\frac{3}{4}\\big)^0 \\big(\\frac{1}{4}\\big)^{2-0}\\\\\\\\\n",
    "&= \\frac {2}{2} \\cdot 1 \\cdot 0.0625\\\\\\\\\n",
    "&= 1 \\cdot 1 \\cdot 0.0625\\\\\\\\\n",
    "&= 0.0625\\\\\\\\\n",
    "&= 0.0625\\\\\\\\\n",
    "\\end{align}\n",
    "$$\n"
   ]
  },
  {
   "cell_type": "markdown",
   "metadata": {},
   "source": [
    ">> $p(X=1)$:\n",
    "\n",
    ">> $$\n",
    "\\begin{align}\n",
    "p(1) &= \\binom{n}{x} p^x (1-p)^{n-x}\\\\\\\\\n",
    "&= \\frac {n!}{x!(n-x)!} p^x (1-p)^{n-x}\\\\\\\\\n",
    "&= \\frac {2!}{1!(2-1)!} \\big(\\frac{3}{4}\\big)^1 \\big(\\frac{1}{4}\\big)^{2-1}\\\\\\\\\n",
    "&= \\frac {2}{1} \\cdot 0.75 \\cdot 0.25\\\\\\\\\n",
    "&= 2 \\cdot 0.75 \\cdot 0.25\\\\\\\\\n",
    "&= 0.0625\\\\\\\\\n",
    "&= 0.375\\\\\\\\\n",
    "\\end{align}\n",
    "$$"
   ]
  },
  {
   "cell_type": "markdown",
   "metadata": {},
   "source": [
    ">> $p(X=2)$:\n",
    "\n",
    ">> $$\n",
    "\\begin{align}\n",
    "p(2) &= \\binom{n}{x} p^x (1-p)^{n-x}\\\\\\\\\n",
    "&= \\frac {n!}{x!(n-x)!} p^x (1-p)^{n-x}\\\\\\\\\n",
    "&= \\frac {2!}{2!(2-2)!} \\big(\\frac{3}{4}\\big)^2 \\big(\\frac{1}{4}\\big)^{2-2}\\\\\\\\\n",
    "&= \\frac {2}{2} \\cdot 0.5625 \\cdot 1\\\\\\\\\n",
    "&= 1 \\cdot 0.5625 \\cdot 1\\\\\\\\\n",
    "&= 0.5625\\\\\\\\\n",
    "\\end{align}\n",
    "$$"
   ]
  },
  {
   "cell_type": "markdown",
   "metadata": {},
   "source": [
    "> $\\star$ In summary, the probability mass function is:\n",
    "\n",
    "| x | 0 | 1 | 2 |\n",
    "| --- | --- | --- | --- |\n",
    "| P(X=x) | 0.0625 | 0.375 | 0.5625|\n",
    "\n",
    "\n",
    "$$ \n",
    "p(X=x) = \n",
    "\\begin{cases} \n",
    "    0.0625 &  x = 0 \\\\\n",
    "    0.375 & x = 1 \\\\\n",
    "    0.5625 & x =2 \\\\\n",
    "\\end{cases}\n",
    "$$"
   ]
  },
  {
   "cell_type": "markdown",
   "metadata": {},
   "source": [
    "**b**.\n",
    "\n",
    "> #### Give a complete expression for the cumulative probability function of $X$."
   ]
  },
  {
   "cell_type": "markdown",
   "metadata": {},
   "source": [
    "> $\\star$ Case by case: \n",
    "$$\n",
    "\\begin{align}\n",
    "F(0) &= P(x\\, \\leq 0)\\, =\\, P(x\\, = 0)\\, = p(0) = 0.0625\\\\\n",
    "F(1) &= P(0\\; < x\\, \\leq 1)\\, =\\, P(x\\, = 0\\, or\\, 1)\\, = p(0)\\, +\\, p(1) = 0.0625 + 0.375 = 0.4375\\\\\n",
    "F(2) &= P(1\\; < x\\, \\leq 2)\\, =\\, P(x\\, = 0\\, or\\, 1\\, or\\, 2)\\, = p(0)\\, +\\, p(1)\\, + p(2) = 0.0625 + 0.375 +0.5625 = 1\\\\\n",
    "\\end{align}\n",
    "$$"
   ]
  },
  {
   "cell_type": "markdown",
   "metadata": {},
   "source": [
    "> $\\star$ For each case: \n",
    "$$ \n",
    "F(x) = \n",
    "\\begin{cases} \n",
    "    0.0625 &  x \\leq 0 \\\\\n",
    "    0.4375 & 0 < x \\leq 1 \\\\\n",
    "    1 & 1 < x \\leq 2 \\\\\n",
    "\\end{cases}\n",
    "$$"
   ]
  },
  {
   "cell_type": "markdown",
   "metadata": {},
   "source": [
    "**c**. \n",
    "> #### Compute $E(X)$"
   ]
  },
  {
   "cell_type": "markdown",
   "metadata": {},
   "source": [
    ">> * For discrete random variables:\n",
    "$$ \n",
    "\\begin{align} \n",
    "E(X) = E(f(x)) &= \\sum f(x)p(x)\\\\\n",
    "&= [(0 \\cdot 0.625) + (1 \\cdot 0.375) + (2 \\cdot 0.5625)]\\\\\n",
    "&=  1.5\n",
    "\\end{align}\n",
    "$$\n",
    "\n",
    ">> $\\star$ In the long run, an expected $1.5$ companies will reach unicorn status."
   ]
  },
  {
   "cell_type": "markdown",
   "metadata": {},
   "source": [
    "**d**.\n",
    "> #### Compute $var(X)$."
   ]
  },
  {
   "cell_type": "markdown",
   "metadata": {},
   "source": [
    ">> * Since:\n",
    "$$ \n",
    "\\begin{align} \n",
    "Var(X) &= E(x^2) - [E(x)]^2\\\\\\\\\n",
    "&= (x^2) - [1.5]^2\\\\\n",
    "\\end{align}\n",
    "$$\n",
    "\n",
    "$$ \n",
    "\\begin{align}\n",
    "where\\; E(x^2) &= [(0^2 \\cdot 0.625) + (1^2 \\cdot 0.375) + (2^2 \\cdot 0.5625)]\\\\\\\\\n",
    "&= [(0) + (0.375) + (2.25)]\\\\\\\\\n",
    "&= [(0) + (0.375) + (2.25)]\\\\\\\\\n",
    "&= 2.625\n",
    "\\end{align}\n",
    "$$\n",
    "\n",
    "$$ \n",
    "\\begin{align} \n",
    "So...\n",
    "Var(X) &= E(x^2) - [E(x)]^2\\\\\\\\\n",
    "&= (2.625) - [1.5]^2\\\\\\\\\n",
    "&= 2.625 - 2.25\\\\\\\\\n",
    "&= 0.375\\\\\n",
    "\\end{align}\n",
    "$$\n",
    "\n",
    ">> $\\star$ The $var(x) = 0.375$."
   ]
  },
  {
   "cell_type": "markdown",
   "metadata": {},
   "source": [
    "### 3. A Really Bad Darts Player\n",
    "\n",
    "Let $X$ and $Y$ be independent uniform random variables on the interval $[-1,1]$.  Let $D$ be a random variable that indicates if $(X,Y)$ falls within the unit circle centered at the origin.  We can define $D$ as follows:\n",
    "\n",
    "$$ D = \\begin{cases}\n",
    "1, &X^2 + Y^2 < 1 \\\\\n",
    "0, &otherwise\n",
    "\\end{cases}\n",
    "$$\n",
    "\n",
    "Note that $D$ is a Bernoulli variable.  \n",
    "\n",
    "a. Compute the expectation $E(D)$.  Hint: it might help to remember why we use area diagrams to represent probabilites.\n",
    "\n",
    "b. Compute the standard deviation of $D$.\n",
    "\n",
    "c. Write an R function to compute the value of $D$, given a value for $X$ and a value for $Y$.  Use R to simulate a draw for $X$ and a draw for $Y$, then compute the value of $D$."
   ]
  },
  {
   "cell_type": "markdown",
   "metadata": {},
   "source": [
    "**a**.\n",
    "> #### Compute the expectation $E(D)$.  Hint: it might help to remember why we use area diagrams to represent probabilites."
   ]
  },
  {
   "cell_type": "markdown",
   "metadata": {},
   "source": [
    ">> * The $E(D)$ can be derived from an area diagram."
   ]
  },
  {
   "cell_type": "code",
   "execution_count": 3,
   "metadata": {},
   "outputs": [
    {
     "name": "stderr",
     "output_type": "stream",
     "text": [
      "Updating HTML index of packages in '.Library'\n",
      "Making 'packages.html' ... done\n"
     ]
    },
    {
     "data": {
      "image/png": "[encoded data removed]",
      "text/plain": [
       "plot without title"
      ]
     },
     "metadata": {},
     "output_type": "display_data"
    }
   ],
   "source": [
    "# Install package\n",
    "install.packages(\"plotrix\")\n",
    "# Invoke package\n",
    "library(\"plotrix\")\n",
    "# Create empty plot\n",
    "plot(NULL,xlim=c(-1.5,1.5), ylim=c(-1.5, 1.5), col = \"white\",\n",
    "     xlab = \"X\", ylab = \"Y\", asp=1) \n",
    "# Plot square\n",
    "polygon(x = c(-1,1,1,-1),                           \n",
    "        y = c(-1,-1,1,1),                             \n",
    "        lwd = 2)\n",
    "# Plot function\n",
    "draw.circle(0,0,1,nv=1000,border=NULL,col=\"grey\",lty=1,lwd=2)\n",
    "# Name the function inside the circle\n",
    "text(0, 0, expression(x^{2} + y^{2} < 0))\n",
    "# Name the function inside the circle\n",
    "text(-0.8, 0.8, expression(0))"
   ]
  },
  {
   "cell_type": "markdown",
   "metadata": {},
   "source": [
    ">> The expected value of $D, E[D]$:\n",
    "$$ \n",
    "\\begin{align} \n",
    "E[D] = E(f(d)) &= \\sum f(d)p(d)\\\\\\\\\n",
    "&= \\Big[\\Big( 0 \\cdot \\frac {1-\\pi}{4}\\Big) + \\Big(1 \\cdot \\frac {\\pi}{4}\\Big)\\Big]\\\\\\\\\n",
    "&=  \\frac {\\pi}{4}\\\\\\\\\n",
    "\\end{align}\n",
    "$$\n",
    "\n",
    ">> $\\star$ Thus, the expected value of $D, E[D] = \\frac {\\pi}{4}$"
   ]
  },
  {
   "cell_type": "markdown",
   "metadata": {},
   "source": [
    "**b**.\n",
    "> #### Compute the standard deviation of $D$."
   ]
  },
  {
   "cell_type": "markdown",
   "metadata": {},
   "source": [
    ">> * From:\n",
    "$$ \n",
    "\\begin{align} \n",
    "s &= \\sqrt{\\frac{1}{N-1} \\sum_{i=1}^N (x_i - \\overline{x})^2} \\\\\\\\\n",
    "&= \\sqrt{\\Bigg[ \\frac {\\Big(0 - \\frac {\\pi}{4}\\Big)^2 +  \\Big(1 - \\frac {\\pi}{4}\\Big)^2} {2-1}\\Bigg]}\\\\\\\\\n",
    "&= 0.814189304364331\\\\\\\\\n",
    "\\end{align}\n",
    "$$\n",
    "\n",
    ">> $\\star$ Thus, the standard deviation of $D = 0.814189304364331$"
   ]
  },
  {
   "cell_type": "code",
   "execution_count": 31,
   "metadata": {},
   "outputs": [
    {
     "data": {
      "text/html": [
       "0.814189304364331"
      ],
      "text/latex": [
       "0.814189304364331"
      ],
      "text/markdown": [
       "0.814189304364331"
      ],
      "text/plain": [
       "[1] 0.8141893"
      ]
     },
     "metadata": {},
     "output_type": "display_data"
    }
   ],
   "source": [
    "sqrt(((0-(pi/4))^2 + (1-(pi/4))^2)/(2-1))"
   ]
  },
  {
   "cell_type": "markdown",
   "metadata": {},
   "source": [
    "**c**.\n",
    "> #### Write an R function to compute the value of $D$, given a value for $X$ and a value for $Y$.  Use R to simulate a draw for $X$ and a draw for $Y$, then compute the value of $D$."
   ]
  },
  {
   "cell_type": "code",
   "execution_count": 4,
   "metadata": {},
   "outputs": [],
   "source": [
    "# Function to compute value of D, given x and y\n",
    "D_value = function (x,y){\n",
    "    if (x**2 + y**2 < 1.0){\n",
    "        1\n",
    "    }\n",
    "    else{\n",
    "        0\n",
    "    }\n",
    "}"
   ]
  },
  {
   "cell_type": "code",
   "execution_count": 5,
   "metadata": {},
   "outputs": [],
   "source": [
    "# Draw values of x and y\n",
    "set.seed(123)\n",
    "x = runif(1, min = -1, max = 1)\n",
    "y = runif(1, min = -1, max = 1)"
   ]
  },
  {
   "cell_type": "code",
   "execution_count": 6,
   "metadata": {
    "scrolled": true
   },
   "outputs": [
    {
     "data": {
      "text/html": [
       "1"
      ],
      "text/latex": [
       "1"
      ],
      "text/markdown": [
       "1"
      ],
      "text/plain": [
       "[1] 1"
      ]
     },
     "metadata": {},
     "output_type": "display_data"
    }
   ],
   "source": [
    "# Function output\n",
    "D_value(x,y)"
   ]
  },
  {
   "cell_type": "markdown",
   "metadata": {},
   "source": [
    "d. Use R to simulate the previous experiment 1000 times, resulting in 1000 samples for $D$.  Compute the sample mean and sample standard deviation of your result, and compare them to the true values in parts a. and b."
   ]
  },
  {
   "cell_type": "code",
   "execution_count": 32,
   "metadata": {},
   "outputs": [],
   "source": [
    "# Function to caculate E(D):\n",
    "EX_D = function (n){\n",
    "# Initialize mean\n",
    "Mean = 0 \n",
    "# Initialize x\n",
    "x = runif(n, min = -1, max = 1)\n",
    "# Initialize y\n",
    "y = runif(n, min = -1, max = 1) \n",
    "    # For every value in n\n",
    "    for (i in seq(n)){ \n",
    "        # Compute the mean as the previous mean plus each x[i], y[i]\n",
    "        Mean = Mean + D_value(x[i], y[i])\n",
    "    }\n",
    "    # Divided by n\n",
    "    Mean = Mean/n\n",
    "    # Return the mean\n",
    "    Mean\n",
    "}"
   ]
  },
  {
   "cell_type": "code",
   "execution_count": 33,
   "metadata": {
    "scrolled": false
   },
   "outputs": [
    {
     "data": {
      "text/html": [
       "0.788"
      ],
      "text/latex": [
       "0.788"
      ],
      "text/markdown": [
       "0.788"
      ],
      "text/plain": [
       "[1] 0.788"
      ]
     },
     "metadata": {},
     "output_type": "display_data"
    }
   ],
   "source": [
    "EX_D(1000)"
   ]
  },
  {
   "cell_type": "markdown",
   "metadata": {},
   "source": [
    "$\\star$ The expected value of $D$, $E[D]$ computed without simulation, $ E[D] =\\frac {\\pi}{4}$ is very close to the value computed with simulation where $E[D] = 0.788$. This is to be expected for the expected value, since it represents the expected value in the long run!"
   ]
  },
  {
   "cell_type": "code",
   "execution_count": 28,
   "metadata": {},
   "outputs": [],
   "source": [
    "# Function to caculate sd(D):\n",
    "SD_D = function (n){\n",
    "# Initialize mean\n",
    "Mean = 0 \n",
    "# Intialize standard deviation\n",
    "Std = 0\n",
    "# Initialize x\n",
    "x = runif(n, min = -1, max = 1)\n",
    "# Initialize y\n",
    "y = runif(n, min = -1, max = 1) \n",
    "    # For every ith value in n\n",
    "    for (i in seq(n)){ \n",
    "        # Compute the mean as the previous mean plus each x[i], y[i]\n",
    "        Mean = Mean + D_value(x[i], y[i])\n",
    "    }\n",
    "    # Divided by n\n",
    "    Mean = Mean/n\n",
    "    # For every jth value in n\n",
    "    for (j in seq(n)){\n",
    "        # Calculate the standard deviation\n",
    "        Std = Std + (D_value(x[j], y[j]) - Mean)^2\n",
    "        }\n",
    "    # Square root of standard deviation\n",
    "    Std = sqrt(Std/(n-1))\n",
    "    # Return the standard deviation\n",
    "    Std   \n",
    "}"
   ]
  },
  {
   "cell_type": "code",
   "execution_count": 29,
   "metadata": {
    "scrolled": true
   },
   "outputs": [
    {
     "data": {
      "text/html": [
       "0.409632516774238"
      ],
      "text/latex": [
       "0.409632516774238"
      ],
      "text/markdown": [
       "0.409632516774238"
      ],
      "text/plain": [
       "[1] 0.4096325"
      ]
     },
     "metadata": {},
     "output_type": "display_data"
    }
   ],
   "source": [
    "SD_D(1000)"
   ]
  },
  {
   "cell_type": "markdown",
   "metadata": {},
   "source": [
    "$\\star$ The standard deviation  of $D$, $\\sigma$ computed without simulation, $ \\sigma = 0.814.$ is not very close to the value computed with simulation where $\\sigma = 0.409$. The latter is ~ half the size of the former. This is also to be expected for the standard deviation, since it is more sensitive to $n$ than the expected value."
   ]
  },
  {
   "cell_type": "markdown",
   "metadata": {},
   "source": [
    "# 4. Relating Min and Max\n",
    "\n",
    "Continuous random variables $X$ and $Y$ have a joint distribution with probability density function,\n",
    "\n",
    "$$ f(x,y) = \\begin{cases}\n",
    "2, &0 < y < x < 1 \\\\\n",
    "0, &otherwise.\n",
    "\\end{cases} $$\n",
    "\n",
    "You may wonder where you would find such a distribution.  In fact, if $A_1$ and $A_2$ are independent random variables uniformly distributed on $[0,1]$, and you define $X = max(A_1,A_2)$, $Y = min(A_1,A_2)$, then $X$ and $Y$ will have exactly the joint distribution defined above.\n",
    "\n",
    "a. Draw a graph of the region for which $X$ and $Y$ have positive probability density.\n",
    "\n",
    "b. Derive the marginal probability density function of $X$, $f_X(x)$.  Make sure you write down a complete expression.\n",
    "\n",
    "c. Derive the unconditional expectation of $X$.\n",
    "\n",
    "d. Derive the conditional probability density function of $Y$, conditional on $X$, $f_{Y|X}(y|x)$\n",
    "\n",
    "e. Derive the conditional expectation of $Y$, conditional on $X$, $E(Y|X)$.\n",
    "\n",
    "f. Derive $E(XY)$.  Hint 1: Use the law of iterated expectations.  Hint 2: If you take an expectation conditional on $X$, $X$ is just a constant inside the expectation.  This means that $E(XY|X) = XE(Y|X)$.\n",
    "\n",
    "g. Using the previous parts, derive $cov(X,Y)$"
   ]
  },
  {
   "cell_type": "markdown",
   "metadata": {},
   "source": [
    "**a**.\n",
    "> #### Draw a graph of the region for which  𝑋  and  𝑌  have positive probability density."
   ]
  },
  {
   "cell_type": "markdown",
   "metadata": {},
   "source": [
    "> * Together, the x and y jointly represent the area that satisfies the constraint where $y < x$, or a right triangular."
   ]
  },
  {
   "cell_type": "code",
   "execution_count": 4,
   "metadata": {},
   "outputs": [
    {
     "name": "stderr",
     "output_type": "stream",
     "text": [
      "Warning message in text.default(1.02, 1.02, expression(\"Note:\\nthe space where x=y\\nis not incuded.\")):\n",
      "“font metrics unknown for character 0xa”Warning message in text.default(1.02, 1.02, expression(\"Note:\\nthe space where x=y\\nis not incuded.\")):\n",
      "“font metrics unknown for character 0xa”Warning message in text.default(1.02, 1.02, expression(\"Note:\\nthe space where x=y\\nis not incuded.\")):\n",
      "“font metrics unknown for character 0xa”Warning message in text.default(1.02, 1.02, expression(\"Note:\\nthe space where x=y\\nis not incuded.\")):\n",
      "“font metrics unknown for character 0xa”"
     ]
    },
    {
     "data": {
      "image/png": "[encoded data removed]",
      "text/plain": [
       "plot without title"
      ]
     },
     "metadata": {},
     "output_type": "display_data"
    }
   ],
   "source": [
    "# Create empty plot\n",
    "plot(0.8, 0.8, col = \"white\",\n",
    "     xlab = \"X\", ylab = \"Y\") \n",
    "# Plot function\n",
    "polygon(x = c(0,1,1),                           \n",
    "        y = c(0,1,0),                             \n",
    "        col = \"grey\",\n",
    "        lwd = 2)\n",
    "# Name the function\n",
    "text(1.02, 1.02, expression('Note:\\nthe space where x=y\\nis not incuded.'))"
   ]
  },
  {
   "cell_type": "markdown",
   "metadata": {},
   "source": [
    "**b**.\n",
    "> #### Derive the marginal probability density function of $X$, $f_X(x)$.  Make sure you write down a complete expression."
   ]
  },
  {
   "cell_type": "markdown",
   "metadata": {},
   "source": [
    ">> * The marginal pdf of $X, f_X(x)$:"
   ]
  },
  {
   "cell_type": "markdown",
   "metadata": {},
   "source": [
    ">> * Given that:\n",
    "$$ \n",
    "\\begin{align} \n",
    "f_X(x) &= \\int^{x}_{y=0} f(x,y) dy\\\\\\\\\n",
    "&= 2 \\left[y\\right]_0^x\\\\\\\\\n",
    "&= 2 \\left[x - 0 \\right]\\\\\\\\\n",
    "&= 2x\\\\\n",
    "\\end{align}\n",
    "$$\n",
    "\n",
    ">> $\\star$ The marginal pdf of $X, f_X(x): 2x$"
   ]
  },
  {
   "cell_type": "markdown",
   "metadata": {},
   "source": [
    "**c**.\n",
    "> #### Derive the unconditional expectation of $X$."
   ]
  },
  {
   "cell_type": "markdown",
   "metadata": {},
   "source": [
    ">> * The unconditional expectation of $X, E[X]$:"
   ]
  },
  {
   "cell_type": "markdown",
   "metadata": {},
   "source": [
    ">> * Given that:\n",
    "$$ \n",
    "\\begin{align} \n",
    "E[X] &= E_Y\\big[ E_X[ X | Y ] \\big]\\\\\\\\\n",
    "&= E_Y\\big[ \\int_X x \\cdot f_{X|Y}(x, y) \\; dx \\big] \\\\\\\\\n",
    "&= \\int_Y \\int_X x \\cdot f_{X|Y}(x, y) dx \\; f_Y(y) dy \\\\\\\\\n",
    "&= \\int_Y \\int_X x \\cdot f_{X|Y}(x, y)\\; f_Y(y)  dx dy \\\\\\\\\n",
    "&= \\int_{x=0}^{1} \\int_{y=0}^{x} \\; x \\; f(x, y) \\; dx dy\\\\\\\\\n",
    "&= \\int_{x=0}^{1} \\int_{y=0}^{x} \\; x \\cdot 2 \\; dx dy\\\\\\\\\n",
    "&= 2\\int_{0}^{1} \\left[y\\right]_0^x\\; dx\\\\\\\\\n",
    "&= 2\\left[\\frac {x^3}{3}\\right]_0^1\\\\\\\\\n",
    "&= 2\\left[\\frac {1^3}{3}-\\frac {0^3}{3} \\right]\\\\\\\\\n",
    "&= 2\\left[\\frac {1}{3}-\\frac {0}{3} \\right]\\\\\\\\\n",
    "&= 2\\left[\\frac {1}{3}\\right]\\\\\\\\\n",
    "&= \\frac {2}{3}\\\\\\\\\n",
    "\\end{align}\n",
    "$$\n",
    "\n",
    ">> $\\star$ The unconditional expectation of $X, E[X] = \\frac {2}{3}$"
   ]
  },
  {
   "cell_type": "markdown",
   "metadata": {},
   "source": [
    "**d**.\n",
    "> #### Derive the conditional probability density function of $Y$, conditional on $X$, $f_{Y|X}(y|x)$"
   ]
  },
  {
   "cell_type": "markdown",
   "metadata": {},
   "source": [
    ">> * Given that:\n",
    "$$ \n",
    "\\begin{align} \n",
    "f_{Y|X}(y|x) &= \\frac {f_{Y|X}(y|x)}{f(x)} \\text{  , when  } 0<y<x\\\\\\\\\n",
    "&= \\frac {2}{2x}\\\\\\\\\n",
    "&= \\frac {1}{x}\\\\\n",
    "\\end{align}\n",
    "$$\n",
    "\n",
    ">> $\\star$ The conditional probability density function of $Y,$ conditioned on $X f_{Y|X}(y|x) = \\frac {1}{2x}$"
   ]
  },
  {
   "cell_type": "markdown",
   "metadata": {},
   "source": [
    "**e**.\n",
    "> #### Derive the conditional expectation of $Y$, conditional on $X$, $E[Y|X]$."
   ]
  },
  {
   "cell_type": "markdown",
   "metadata": {},
   "source": [
    ">> * Given that:\n",
    "$$ \n",
    "\\begin{align} \n",
    "E[Y|X] &= \\int_{y=0}^{x} y \\; f(y|x) dy\\\\\\\\\n",
    "       &= \\int_{y=0}^{x} y \\; \\frac{1}{x} dy\\\\\\\\\n",
    "       &= \\frac{1}{x} \\cdot \\left[\\frac{y^2}{2}\\right]_0^x\\\\\\\\\n",
    "       &= \\frac{1}{x} \\cdot \\left[\\frac{x^2}{2}-\\frac{0^2}{2}\\right]\\\\\\\\\n",
    "       &= \\frac{1}{x} \\cdot \\left[\\frac{x^2}{2}\\right]\\\\\\\\\n",
    "       &= \\frac{x}{2}\\\\\\\\\n",
    "\\end{align}\n",
    "$$\n",
    "\n",
    ">> $\\star$ The conditional expectation of $Y,$ conditioned on $X, E[Y|X] = \\frac {x}{2}$"
   ]
  },
  {
   "cell_type": "markdown",
   "metadata": {},
   "source": [
    "**f**.\n",
    "> #### Derive $E(XY)$.  Hint 1: Use the law of iterated expectations.  Hint 2: If you take an expectation conditional on $X$, $X$ is just a constant inside the expectation.  This means that $E(XY|X) = XE(Y|X)$."
   ]
  },
  {
   "cell_type": "markdown",
   "metadata": {},
   "source": [
    ">> * Given that:\n",
    "$$ \n",
    "\\begin{align} \n",
    "E[XY] &= \\int_{x=0}^{1} E[XY|X]f_X(x)dx\\\\\\\\\n",
    "      &= \\int_{x=0}^{1} x E[Y|X]f_X(x)dx\\\\\\\\\n",
    "      &= \\int_{x=0}^{1} x\\; \\frac {x}{2}\\; 2x\\; dx\\\\\\\\\n",
    "      &= \\left[\\frac{x^4}{4} \\right]_0^1\\\\\\\\\n",
    "      &= \\left[\\frac{1^4}{4} - \\frac{0^4}{4}\\right]_0^1\\\\\\\\\n",
    "      &= \\frac{1}{4}\\\\\\\\\n",
    "\\end{align}\n",
    "$$\n",
    ">> $\\star$ The expectation of $YX,\\; E[YX] = \\frac {1}{4}$"
   ]
  },
  {
   "cell_type": "markdown",
   "metadata": {},
   "source": [
    "**g**.\n",
    "> #### Using the previous parts, derive $cov(X,Y)$"
   ]
  },
  {
   "cell_type": "markdown",
   "metadata": {},
   "source": [
    ">> * Given that:\n",
    "$$ \n",
    "\\begin{align} \n",
    "cov[X,Y] &\\equiv E[XY] - E[X] E[Y]\\\\\\\\\n",
    "    &= \\frac {1}{4} - \\Big(\\frac{2}{3}\\cdot E[Y]\\Big)\\\\\\\\\n",
    "    &= \\frac {1}{4} - \\Big(\\frac{2}{3} \\cdot \\int_{x=0}^{1} E[Y|X]f_X(x)dx\\Big)\\\\\\\\\n",
    "    &= \\frac {1}{4} - \\Big(\\frac{2}{3} \\cdot \\int_{x=0}^{1}\\; \\frac {x}{2}\\;2x\\;dx\\Big)\\\\\\\\\n",
    "    &= \\frac {1}{4} - \\Bigg(\\frac{2}{3} \\cdot \\left[\\frac{x^3}{3} \\right]_0^1\\Bigg)\\\\\\\\\n",
    "    &= \\frac {1}{4} - \\Bigg(\\frac{2}{3} \\cdot \\left[\\frac{1^3}{3} -\\frac{0^3}          {3}\\right]\\Bigg)\\\\\\\\\n",
    "    &= \\frac {1}{4} - \\Big(\\frac{2}{3} \\cdot \\frac{1}{3}\\Big)\\\\\\\\\n",
    "    &= \\frac {1}{4} - \\frac{2}{9}\\\\\\\\\n",
    "    &= \\frac {9}{36} - \\frac{8}{36}\\\\\\\\\n",
    "    &= \\frac {1}{36}\\\\\\\\\n",
    "\\end{align}\n",
    "$$\n",
    "\n",
    ">> $\\star$ The covariance of $X,Y,\\; cov[X,Y] = \\frac {1}{36}$"
   ]
  }
 ],
 "metadata": {
  "kernelspec": {
   "display_name": "R",
   "language": "R",
   "name": "ir"
  },
  "language_info": {
   "codemirror_mode": "r",
   "file_extension": ".r",
   "mimetype": "text/x-r-source",
   "name": "R",
   "pygments_lexer": "r",
   "version": "3.5.1"
  }
 },
 "nbformat": 4,
 "nbformat_minor": 2
}
